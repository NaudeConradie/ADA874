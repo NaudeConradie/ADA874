{
 "cells": [
  {
   "cell_type": "code",
   "execution_count": 1,
   "metadata": {},
   "outputs": [],
   "source": [
    "import numpy as np\n",
    "import os\n",
    "\n",
    "%matplotlib inline\n",
    "import matplotlib\n",
    "import matplotlib.pyplot as plt\n",
    "\n",
    "import random\n",
    "\n",
    "import tensorflow as tf"
   ]
  },
  {
   "cell_type": "code",
   "execution_count": 2,
   "metadata": {},
   "outputs": [],
   "source": [
    "PROJECT_ROOT_DIR = r\"C:\\Users\\19673418\\Desktop\\ADA874\\Chapter 14\\Exercises\"\n",
    "\n",
    "def save_fig(fig_id, tight_layout=True):\n",
    "    path = os.path.join(PROJECT_ROOT_DIR, fig_id + \".png\")\n",
    "    print(\"Saving figure\", fig_id)\n",
    "    if tight_layout:\n",
    "        plt.tight_layout()\n",
    "    plt.savefig(path, format='png', dpi=300)"
   ]
  },
  {
   "cell_type": "code",
   "execution_count": 3,
   "metadata": {},
   "outputs": [],
   "source": [
    "def reset_graph(seed = 42):\n",
    "    tf.reset_default_graph()\n",
    "    tf.set_random_seed(seed)\n",
    "    np.random.seed(seed)"
   ]
  },
  {
   "cell_type": "code",
   "execution_count": 4,
   "metadata": {},
   "outputs": [],
   "source": [
    "Reber_grammar = [\n",
    "    [(\"B\", 1)],\n",
    "    [(\"T\", 2), (\"P\", 3)],\n",
    "    [(\"S\", 2), (\"X\", 4)],\n",
    "    [(\"T\", 3), (\"V\", 5)],\n",
    "    [(\"X\", 3), (\"S\", 6)],\n",
    "    [(\"P\", 4), (\"V\", 6)],\n",
    "    [(\"E\", None)],\n",
    "]\n",
    "\n",
    "emb_Reber_grammar = [\n",
    "    [(\"B\", 1)],\n",
    "    [(\"T\", 2), (\"P\", 3)],\n",
    "    [(Reber_grammar, 4)],\n",
    "    [(Reber_grammar, 5)],\n",
    "    [(\"T\", 6)],\n",
    "    [(\"P\", 6)],\n",
    "    [(\"E\", None)],\n",
    "]"
   ]
  },
  {
   "cell_type": "code",
   "execution_count": 5,
   "metadata": {},
   "outputs": [],
   "source": [
    "Reber_chars = \"BTPSXVE\""
   ]
  },
  {
   "cell_type": "code",
   "execution_count": 6,
   "metadata": {},
   "outputs": [],
   "source": [
    "def gen_Reber_string(grammar):\n",
    "    \n",
    "    state = 0\n",
    "    output = []\n",
    "    \n",
    "    while state is not None:\n",
    "        \n",
    "        i = np.random.randint(len(grammar[state]))\n",
    "        \n",
    "        produced_grammar, state = grammar[state][i]\n",
    "        \n",
    "        if isinstance(produced_grammar, list):\n",
    "            \n",
    "            produced_grammar = gen_Reber_string(grammar = produced_grammar)\n",
    "            \n",
    "        output.append(produced_grammar)\n",
    "    \n",
    "    return \"\".join(output)"
   ]
  },
  {
   "cell_type": "code",
   "execution_count": 7,
   "metadata": {},
   "outputs": [
    {
     "name": "stdout",
     "output_type": "stream",
     "text": [
      "BPBTSSSSSSXXVPXTVPXVPXVPSEPE\n",
      "BTBPTTVVETE\n",
      "BPBPVPSEPE\n",
      "BPBTSSXSEPE\n",
      "BPBPVPSEPE\n",
      "BPBPVPXTVVEPE\n",
      "BTBTSXSETE\n",
      "BTBPVPXTTTTTTTTVPXVPXTTTTTTVVETE\n",
      "BTBTSSSSSXXVVETE\n",
      "BPBPVPXTTVPXTTTTVVEPE\n"
     ]
    }
   ],
   "source": [
    "for i in range(10):\n",
    "    print(gen_Reber_string(emb_Reber_grammar), end = \"\\n\")"
   ]
  },
  {
   "cell_type": "code",
   "execution_count": 8,
   "metadata": {},
   "outputs": [],
   "source": [
    "def gen_rand_string():\n",
    "    \n",
    "    I = np.random.randint(9, high = 20)\n",
    "    \n",
    "    return \"\".join(random.choice(Reber_chars) for i in range(I))"
   ]
  },
  {
   "cell_type": "code",
   "execution_count": 9,
   "metadata": {},
   "outputs": [
    {
     "name": "stdout",
     "output_type": "stream",
     "text": [
      "TSXPPSPBBX\n",
      "TBSXPEVPXBSV\n",
      "BSETBEVBBVXVBPB\n",
      "VXBVSSBEXTE\n",
      "XVTBSPBESETSSS\n",
      "SVTBSPXEBSVTSXT\n",
      "SXBPBPBTVXBTXP\n",
      "SBBXEXXVTVSXSTEE\n",
      "BTVTVTBVEBSP\n",
      "SXSVPBSXPEEBSXET\n"
     ]
    }
   ],
   "source": [
    "for i in range(10):\n",
    "    print(gen_rand_string(), end = \"\\n\")"
   ]
  },
  {
   "cell_type": "code",
   "execution_count": 10,
   "metadata": {},
   "outputs": [],
   "source": [
    "def one_hot_enc_str_to_vec(string, n, chars = Reber_chars):\n",
    "    \n",
    "    char_to_i = {char: i for i, char in enumerate(chars)}\n",
    "    \n",
    "    output = np.zeros((n, len(chars)), dtype = np.int32)\n",
    "    \n",
    "    for i, char in enumerate(string):\n",
    "        \n",
    "        output[i, char_to_i[char]] = 1\n",
    "        \n",
    "    return output"
   ]
  },
  {
   "cell_type": "code",
   "execution_count": 11,
   "metadata": {},
   "outputs": [
    {
     "data": {
      "text/plain": [
       "array([[1, 0, 0, 0, 0, 0, 0],\n",
       "       [0, 1, 0, 0, 0, 0, 0],\n",
       "       [1, 0, 0, 0, 0, 0, 0],\n",
       "       [0, 0, 1, 0, 0, 0, 0],\n",
       "       [0, 0, 0, 0, 0, 1, 0],\n",
       "       [0, 0, 0, 0, 0, 1, 0],\n",
       "       [0, 0, 0, 0, 0, 0, 1],\n",
       "       [0, 1, 0, 0, 0, 0, 0],\n",
       "       [0, 0, 0, 0, 0, 0, 1]])"
      ]
     },
     "execution_count": 11,
     "metadata": {},
     "output_type": "execute_result"
    }
   ],
   "source": [
    "test_str = gen_Reber_string(emb_Reber_grammar)\n",
    "\n",
    "one_hot_enc_str_to_vec(test_str, len(test_str))"
   ]
  },
  {
   "cell_type": "code",
   "execution_count": 12,
   "metadata": {},
   "outputs": [],
   "source": [
    "def gen_data(size):\n",
    "    \n",
    "    Reber_data = [gen_Reber_string(emb_Reber_grammar)\n",
    "                  for i in range(size // 2)]\n",
    "    \n",
    "    rand_data = [gen_rand_string()\n",
    "                 for i in range(size // 2)]\n",
    "    \n",
    "    data = Reber_data + rand_data\n",
    "    \n",
    "    n = max([len(string)\n",
    "             for string in data])\n",
    "    \n",
    "    x = np.array([one_hot_enc_str_to_vec(string, n)\n",
    "                  for string in data])\n",
    "    \n",
    "    l = np.array([len(string)\n",
    "                  for string in data])\n",
    "    \n",
    "    y = np.array([[1] for i in range(len(Reber_data))] +\n",
    "                 [[0] for i in range(len(rand_data))])\n",
    "    \n",
    "    rand_i = np.random.permutation(size)\n",
    "    \n",
    "    return x[rand_i], l[rand_i], y[rand_i]"
   ]
  },
  {
   "cell_type": "code",
   "execution_count": 13,
   "metadata": {},
   "outputs": [],
   "source": [
    "x_train, l_train, y_train = gen_data(10000)\n",
    "x_test, l_test, y_test = gen_data(5000)"
   ]
  },
  {
   "cell_type": "code",
   "execution_count": 14,
   "metadata": {},
   "outputs": [],
   "source": [
    "reset_graph()"
   ]
  },
  {
   "cell_type": "code",
   "execution_count": 15,
   "metadata": {},
   "outputs": [
    {
     "name": "stdout",
     "output_type": "stream",
     "text": [
      "WARNING:tensorflow:From <ipython-input-15-d5a600908cad>:12: GRUCell.__init__ (from tensorflow.python.ops.rnn_cell_impl) is deprecated and will be removed in a future version.\n",
      "Instructions for updating:\n",
      "This class is equivalent as tf.keras.layers.GRUCell, and will be replaced by that in Tensorflow 2.0.\n",
      "WARNING:tensorflow:From <ipython-input-15-d5a600908cad>:13: dynamic_rnn (from tensorflow.python.ops.rnn) is deprecated and will be removed in a future version.\n",
      "Instructions for updating:\n",
      "Please use `keras.layers.RNN(cell)`, which is equivalent to this API\n",
      "WARNING:tensorflow:From C:\\Users\\19673418\\AppData\\Local\\Continuum\\anaconda3\\lib\\site-packages\\tensorflow\\python\\ops\\rnn.py:626: to_int32 (from tensorflow.python.ops.math_ops) is deprecated and will be removed in a future version.\n",
      "Instructions for updating:\n",
      "Use tf.cast instead.\n",
      "WARNING:tensorflow:From C:\\Users\\19673418\\AppData\\Local\\Continuum\\anaconda3\\lib\\site-packages\\tensorflow\\python\\ops\\tensor_array_ops.py:162: colocate_with (from tensorflow.python.framework.ops) is deprecated and will be removed in a future version.\n",
      "Instructions for updating:\n",
      "Colocations handled automatically by placer.\n",
      "WARNING:tensorflow:From <ipython-input-15-d5a600908cad>:15: dense (from tensorflow.python.layers.core) is deprecated and will be removed in a future version.\n",
      "Instructions for updating:\n",
      "Use keras.layers.dense instead.\n"
     ]
    }
   ],
   "source": [
    "n_i = len(Reber_chars)\n",
    "n_n = 25\n",
    "n_o = 1\n",
    "\n",
    "learning_rate = 0.02\n",
    "momentum = 0.95\n",
    "\n",
    "x = tf.placeholder(tf.float32, [None, None, n_i], name = \"x\")\n",
    "l = tf.placeholder(tf.int32, [None], name = \"l\")\n",
    "y = tf.placeholder(tf.float32, [None, 1], name = \"y\")\n",
    "\n",
    "gru_cell = tf.nn.rnn_cell.GRUCell(num_units = n_n)\n",
    "o, states = tf.nn.dynamic_rnn(gru_cell, x, dtype = tf.float32, sequence_length = l)\n",
    "\n",
    "logits = tf.layers.dense(states, n_o, name = \"logits\")\n",
    "\n",
    "y_pred = tf.cast(tf.greater(logits, 0), tf.float32, name = \"y_pred\")\n",
    "y_prob = tf.nn.sigmoid(logits, name = \"y_prob\")\n",
    "\n",
    "x_entropy = tf.nn.sigmoid_cross_entropy_with_logits(labels = y, logits = logits)\n",
    "loss = tf.reduce_mean(x_entropy, name = \"loss\")\n",
    "\n",
    "optimizer = tf.train.MomentumOptimizer(learning_rate = learning_rate, momentum = momentum, use_nesterov = True)\n",
    "training_op = optimizer.minimize(loss)\n",
    "\n",
    "correct = tf.equal(y_pred, y, name = \"correct\")\n",
    "accuracy = tf.reduce_mean(tf.cast(correct, tf.float32), name = \"accuracy\")\n",
    "\n",
    "init = tf.global_variables_initializer()\n",
    "saver = tf.train.Saver()"
   ]
  },
  {
   "cell_type": "code",
   "execution_count": 16,
   "metadata": {},
   "outputs": [
    {
     "name": "stdout",
     "output_type": "stream",
     "text": [
      "   0 Training Loss: 0.085, And Accuracy: 98.00%   Validation Accuracy: 99.70%\n",
      "   1 Training Loss: 0.082, And Accuracy: 98.00%   Validation Accuracy: 99.90%\n",
      "   2 Training Loss: 0.060, And Accuracy: 98.00%   Validation Accuracy: 99.90%\n",
      "   3 Training Loss: 0.077, And Accuracy: 98.00%   Validation Accuracy: 99.92%\n",
      "   4 Training Loss: 0.075, And Accuracy: 98.00%   Validation Accuracy: 99.92%\n",
      "   5 Training Loss: 0.066, And Accuracy: 98.00%   Validation Accuracy: 99.92%\n",
      "   6 Training Loss: 0.055, And Accuracy: 98.00%   Validation Accuracy: 99.92%\n",
      "   7 Training Loss: 0.048, And Accuracy: 98.00%   Validation Accuracy: 99.92%\n",
      "   8 Training Loss: 0.032, And Accuracy: 98.00%   Validation Accuracy: 99.94%\n",
      "   9 Training Loss: 0.035, And Accuracy: 98.00%   Validation Accuracy: 99.94%\n",
      "  10 Training Loss: 0.022, And Accuracy: 98.00%   Validation Accuracy: 99.96%\n",
      "  11 Training Loss: 0.014, And Accuracy: 100.00%   Validation Accuracy: 100.00%\n",
      "  12 Training Loss: 0.011, And Accuracy: 100.00%   Validation Accuracy: 99.98%\n",
      "  13 Training Loss: 0.010, And Accuracy: 100.00%   Validation Accuracy: 99.98%\n",
      "  14 Training Loss: 0.009, And Accuracy: 100.00%   Validation Accuracy: 99.98%\n",
      "  15 Training Loss: 0.009, And Accuracy: 100.00%   Validation Accuracy: 99.98%\n",
      "  16 Training Loss: 0.008, And Accuracy: 100.00%   Validation Accuracy: 99.98%\n",
      "  17 Training Loss: 0.007, And Accuracy: 100.00%   Validation Accuracy: 99.98%\n",
      "  18 Training Loss: 0.007, And Accuracy: 100.00%   Validation Accuracy: 99.98%\n",
      "  19 Training Loss: 0.007, And Accuracy: 100.00%   Validation Accuracy: 100.00%\n",
      "  20 Training Loss: 0.006, And Accuracy: 100.00%   Validation Accuracy: 100.00%\n",
      "  21 Training Loss: 0.006, And Accuracy: 100.00%   Validation Accuracy: 99.98%\n",
      "  22 Training Loss: 0.005, And Accuracy: 100.00%   Validation Accuracy: 99.98%\n",
      "  23 Training Loss: 0.005, And Accuracy: 100.00%   Validation Accuracy: 99.98%\n",
      "  24 Training Loss: 0.005, And Accuracy: 100.00%   Validation Accuracy: 99.98%\n"
     ]
    }
   ],
   "source": [
    "n_epochs = 25\n",
    "batch_size = 50\n",
    "\n",
    "with tf.Session() as tfs:\n",
    "    \n",
    "    init.run()\n",
    "    \n",
    "    for epoch in range(n_epochs):\n",
    "        \n",
    "        x_batches = np.array_split(x_train, len(x_train) // batch_size)\n",
    "        l_batches = np.array_split(l_train, len(l_train) // batch_size)\n",
    "        y_batches = np.array_split(y_train, len(y_train) // batch_size)\n",
    "        \n",
    "        for x_batch, l_batch, y_batch in zip(x_batches, l_batches, y_batches):\n",
    "            loss_val, i = tfs.run(\n",
    "                [loss, training_op],\n",
    "                feed_dict = {x: x_batch, l: l_batch, y: y_batch}\n",
    "            )\n",
    "        \n",
    "        acc_train = accuracy.eval(feed_dict = {x: x_batch, l: l_batch, y: y_batch})\n",
    "        acc_val = accuracy.eval(feed_dict = {x: x_test, l: l_test, y: y_test})\n",
    "        \n",
    "        print(\"{:4d} Training Loss: {:.3f}, And Accuracy: {:.2f}%   Validation Accuracy: {:.2f}%\".format(\n",
    "            epoch, loss_val, 100*acc_train, 100*acc_val))\n",
    "        saver.save(tfs, \"./Reber_classifier\")"
   ]
  },
  {
   "cell_type": "code",
   "execution_count": null,
   "metadata": {},
   "outputs": [],
   "source": []
  }
 ],
 "metadata": {
  "kernelspec": {
   "display_name": "Python 3",
   "language": "python",
   "name": "python3"
  },
  "language_info": {
   "codemirror_mode": {
    "name": "ipython",
    "version": 3
   },
   "file_extension": ".py",
   "mimetype": "text/x-python",
   "name": "python",
   "nbconvert_exporter": "python",
   "pygments_lexer": "ipython3",
   "version": "3.7.3"
  }
 },
 "nbformat": 4,
 "nbformat_minor": 2
}
