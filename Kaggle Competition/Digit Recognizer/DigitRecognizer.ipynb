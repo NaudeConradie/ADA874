{
 "cells": [
  {
   "cell_type": "code",
   "execution_count": 1,
   "metadata": {},
   "outputs": [],
   "source": [
    "import sys\n",
    "assert sys.version_info >= (3, 5)\n",
    "\n",
    "import numpy as np\n",
    "import pandas as pd\n",
    "import os\n",
    "\n",
    "import sklearn\n",
    "assert sklearn.__version__ >= \"0.20\"\n",
    "\n",
    "import tensorflow as tf\n",
    "from tensorflow import keras\n",
    "from tensorflow.keras.models import model_from_json\n",
    "assert tf.__version__ >= \"2.0\"\n",
    "\n",
    "%matplotlib inline\n",
    "import matplotlib as mpl\n",
    "import matplotlib.pyplot as plt\n",
    "\n",
    "from functools import partial\n",
    "\n",
    "import winsound"
   ]
  },
  {
   "cell_type": "code",
   "execution_count": 2,
   "metadata": {},
   "outputs": [],
   "source": [
    "f = 2000\n",
    "t = 500"
   ]
  },
  {
   "cell_type": "code",
   "execution_count": 3,
   "metadata": {},
   "outputs": [],
   "source": [
    "train_data = pd.read_csv(\"train.csv\")\n",
    "test_data = pd.read_csv(\"test.csv\")"
   ]
  },
  {
   "cell_type": "code",
   "execution_count": 4,
   "metadata": {},
   "outputs": [
    {
     "name": "stdout",
     "output_type": "stream",
     "text": [
      "<class 'pandas.core.frame.DataFrame'>\n",
      "RangeIndex: 42000 entries, 0 to 41999\n",
      "Columns: 785 entries, label to pixel783\n",
      "dtypes: int64(785)\n",
      "memory usage: 251.5 MB\n"
     ]
    }
   ],
   "source": [
    "train_data.info()"
   ]
  },
  {
   "cell_type": "code",
   "execution_count": 5,
   "metadata": {},
   "outputs": [
    {
     "name": "stdout",
     "output_type": "stream",
     "text": [
      "<class 'pandas.core.frame.DataFrame'>\n",
      "RangeIndex: 28000 entries, 0 to 27999\n",
      "Columns: 784 entries, pixel0 to pixel783\n",
      "dtypes: int64(784)\n",
      "memory usage: 167.5 MB\n"
     ]
    }
   ],
   "source": [
    "test_data.info()"
   ]
  },
  {
   "cell_type": "code",
   "execution_count": 6,
   "metadata": {},
   "outputs": [],
   "source": [
    "def prep_x(x_data):\n",
    "    x_mean = x_data.mean(axis = 0, keepdims = True)\n",
    "    x_std = x_data.std(axis = 0, keepdims = True) + 1e-7\n",
    "    x_data = (x_data - x_mean)/x_std\n",
    "    x_data = x_data[..., np.newaxis]\n",
    "    return x_data"
   ]
  },
  {
   "cell_type": "code",
   "execution_count": 7,
   "metadata": {},
   "outputs": [],
   "source": [
    "x_train = train_data.iloc[:, 1:]\n",
    "x_train = x_train.values.astype(np.float32).reshape((x_train.shape[0], 28, 28)) / 255\n",
    "x_valid, x_train = x_train[:4200], x_train[4200:]\n",
    "\n",
    "y_train = train_data.iloc[:, 0]\n",
    "y_train = y_train.values.astype(np.float32)\n",
    "y_valid, y_train = y_train[:4200], y_train[4200:]\n",
    "\n",
    "x_test = test_data.iloc[:, :]\n",
    "x_test = test_data.values.astype(np.float32).reshape((x_test.shape[0], 28, 28)) / 255\n",
    "\n",
    "x_train = prep_x(x_train)\n",
    "x_valid = prep_x(x_valid)\n",
    "x_test = prep_x(x_test)"
   ]
  },
  {
   "cell_type": "code",
   "execution_count": 8,
   "metadata": {},
   "outputs": [
    {
     "name": "stdout",
     "output_type": "stream",
     "text": [
      "x_train:\n",
      "Shape:  (37800, 28, 28, 1)\n",
      "Datatype:  float32\n",
      "Size:  29635200\n",
      "Dimensions:  4\n"
     ]
    }
   ],
   "source": [
    "print('x_train:')\n",
    "print('Shape: ', x_train.shape)\n",
    "print('Datatype: ', x_train.dtype)\n",
    "print('Size: ', x_train.size)\n",
    "print('Dimensions: ', x_train.ndim)"
   ]
  },
  {
   "cell_type": "code",
   "execution_count": 9,
   "metadata": {},
   "outputs": [
    {
     "name": "stdout",
     "output_type": "stream",
     "text": [
      "x_test:\n",
      "Shape:  (28000, 28, 28, 1)\n",
      "Datatype:  float32\n",
      "Size:  21952000\n",
      "Dimensions:  4\n"
     ]
    }
   ],
   "source": [
    "print('x_test:')\n",
    "print('Shape: ', x_test.shape)\n",
    "print('Datatype: ', x_test.dtype)\n",
    "print('Size: ', x_test.size)\n",
    "print('Dimensions: ', x_test.ndim)"
   ]
  },
  {
   "cell_type": "code",
   "execution_count": 10,
   "metadata": {},
   "outputs": [],
   "source": [
    "def_conv2d = partial(keras.layers.Conv2D, kernel_size = 3, activation = 'relu', padding = \"SAME\")"
   ]
  },
  {
   "cell_type": "code",
   "execution_count": 11,
   "metadata": {},
   "outputs": [],
   "source": [
    "cnn = keras.models.Sequential([\n",
    "    def_conv2d(filters = 64, kernel_size = 7, input_shape = [28, 28, 1]),\n",
    "    keras.layers.MaxPooling2D(pool_size = 2),\n",
    "    def_conv2d(filters = 128),\n",
    "    def_conv2d(filters = 128),\n",
    "    keras.layers.MaxPooling2D(pool_size = 2),\n",
    "    def_conv2d(filters = 256),\n",
    "    def_conv2d(filters = 256),\n",
    "    keras.layers.MaxPooling2D(pool_size = 2),\n",
    "    keras.layers.Flatten(),\n",
    "    keras.layers.Dense(units = 128, activation = 'relu'),\n",
    "    keras.layers.Dropout(0.5),\n",
    "    keras.layers.Dense(units = 64, activation = 'relu'),\n",
    "    keras.layers.Dropout(0.5),\n",
    "    keras.layers.Dense(units = 10, activation = 'softmax')\n",
    "])"
   ]
  },
  {
   "cell_type": "code",
   "execution_count": 12,
   "metadata": {},
   "outputs": [
    {
     "name": "stdout",
     "output_type": "stream",
     "text": [
      "Model: \"sequential\"\n",
      "_________________________________________________________________\n",
      "Layer (type)                 Output Shape              Param #   \n",
      "=================================================================\n",
      "conv2d (Conv2D)              (None, 28, 28, 64)        3200      \n",
      "_________________________________________________________________\n",
      "max_pooling2d (MaxPooling2D) (None, 14, 14, 64)        0         \n",
      "_________________________________________________________________\n",
      "conv2d_1 (Conv2D)            (None, 14, 14, 128)       73856     \n",
      "_________________________________________________________________\n",
      "conv2d_2 (Conv2D)            (None, 14, 14, 128)       147584    \n",
      "_________________________________________________________________\n",
      "max_pooling2d_1 (MaxPooling2 (None, 7, 7, 128)         0         \n",
      "_________________________________________________________________\n",
      "conv2d_3 (Conv2D)            (None, 7, 7, 256)         295168    \n",
      "_________________________________________________________________\n",
      "conv2d_4 (Conv2D)            (None, 7, 7, 256)         590080    \n",
      "_________________________________________________________________\n",
      "max_pooling2d_2 (MaxPooling2 (None, 3, 3, 256)         0         \n",
      "_________________________________________________________________\n",
      "flatten (Flatten)            (None, 2304)              0         \n",
      "_________________________________________________________________\n",
      "dense (Dense)                (None, 128)               295040    \n",
      "_________________________________________________________________\n",
      "dropout (Dropout)            (None, 128)               0         \n",
      "_________________________________________________________________\n",
      "dense_1 (Dense)              (None, 64)                8256      \n",
      "_________________________________________________________________\n",
      "dropout_1 (Dropout)          (None, 64)                0         \n",
      "_________________________________________________________________\n",
      "dense_2 (Dense)              (None, 10)                650       \n",
      "=================================================================\n",
      "Total params: 1,413,834\n",
      "Trainable params: 1,413,834\n",
      "Non-trainable params: 0\n",
      "_________________________________________________________________\n"
     ]
    }
   ],
   "source": [
    "cnn.summary()"
   ]
  },
  {
   "cell_type": "code",
   "execution_count": 13,
   "metadata": {},
   "outputs": [],
   "source": [
    "#cnn.compile(loss = \"sparse_categorical_crossentropy\", optimizer = \"nadam\", metrics = [\"accuracy\"])\n",
    "#history = cnn.fit(x_train, y_train, epochs = 10, validation_data = [x_valid, y_valid])\n",
    "\n",
    "#cnn_json = cnn.to_json()\n",
    "#with open(\"cnn.json\", \"w\") as json_file:\n",
    "#    json_file.write(cnn_json)\n",
    "    \n",
    "#cnn.save_weights(\"cnn.h5\")\n",
    "#print(\"CNN has been saved.\")\n",
    "\n",
    "#winsound.Beep(f, t)"
   ]
  },
  {
   "cell_type": "code",
   "execution_count": 14,
   "metadata": {},
   "outputs": [
    {
     "name": "stdout",
     "output_type": "stream",
     "text": [
      "CNN has been loaded.\n"
     ]
    }
   ],
   "source": [
    "json_file = open('cnn.json', 'r')\n",
    "cnn_load_json = json_file.read()\n",
    "json_file.close()\n",
    "cnn_load = model_from_json(cnn_load_json)\n",
    "cnn_load.load_weights(\"cnn.h5\")\n",
    "print(\"CNN has been loaded.\")\n",
    "\n",
    "cnn_load.compile(loss = \"sparse_categorical_crossentropy\", optimizer = \"nadam\", metrics = [\"accuracy\"])\n",
    "y_pred_cnn = cnn_load.predict(x_test)\n",
    "winsound.Beep(f, t)"
   ]
  },
  {
   "cell_type": "code",
   "execution_count": 15,
   "metadata": {},
   "outputs": [
    {
     "name": "stdout",
     "output_type": "stream",
     "text": [
      "y_pred_cnn:\n",
      "Shape:  (28000, 10)\n",
      "Datatype:  float32\n",
      "Size:  280000\n",
      "Dimensions:  2\n"
     ]
    },
    {
     "data": {
      "text/plain": [
       "array([[0.0000000e+00, 8.9150226e-35, 1.0000000e+00, 6.1040491e-30,\n",
       "        0.0000000e+00, 0.0000000e+00, 0.0000000e+00, 2.8151322e-34,\n",
       "        0.0000000e+00, 0.0000000e+00],\n",
       "       [1.0000000e+00, 1.0387188e-35, 1.4622281e-33, 1.4577692e-30,\n",
       "        9.5489438e-32, 2.3885880e-27, 2.8687649e-17, 0.0000000e+00,\n",
       "        1.8747126e-24, 6.1232959e-28],\n",
       "       [1.9546301e-18, 1.1088184e-18, 8.9207318e-18, 2.0381571e-11,\n",
       "        1.7236451e-06, 2.6558950e-12, 1.2597572e-19, 1.3845497e-11,\n",
       "        7.8292851e-11, 9.9999833e-01]], dtype=float32)"
      ]
     },
     "execution_count": 15,
     "metadata": {},
     "output_type": "execute_result"
    }
   ],
   "source": [
    "print('y_pred_cnn:')\n",
    "print('Shape: ', y_pred_cnn.shape)\n",
    "print('Datatype: ', y_pred_cnn.dtype)\n",
    "print('Size: ', y_pred_cnn.size)\n",
    "print('Dimensions: ', y_pred_cnn.ndim)\n",
    "y_pred_cnn[0:3]"
   ]
  },
  {
   "cell_type": "code",
   "execution_count": 16,
   "metadata": {},
   "outputs": [
    {
     "data": {
      "text/plain": [
       "array([2, 0, 9, ..., 3, 9, 2], dtype=int64)"
      ]
     },
     "execution_count": 16,
     "metadata": {},
     "output_type": "execute_result"
    }
   ],
   "source": [
    "y_pred_cnn_sub = np.argmax(y_pred_cnn, axis = 1)\n",
    "y_pred_cnn_sub"
   ]
  },
  {
   "cell_type": "code",
   "execution_count": 17,
   "metadata": {},
   "outputs": [],
   "source": [
    "y_pred_i = np.arange(1, len(y_pred_cnn_sub) + 1)"
   ]
  },
  {
   "cell_type": "code",
   "execution_count": 18,
   "metadata": {},
   "outputs": [],
   "source": [
    "submission = pd.DataFrame(y_pred_i)\n",
    "submission = pd.concat([submission, pd.DataFrame(y_pred_cnn_sub)], axis = 1)\n",
    "submission.columns = [\"ImageId\", \"Label\"]\n",
    "submission.to_csv(\"sub_cnn_01.csv\", index = False)"
   ]
  },
  {
   "cell_type": "code",
   "execution_count": 19,
   "metadata": {},
   "outputs": [],
   "source": [
    "def pad_x(x_data):\n",
    "    x_data = np.pad(x_data, ((0, 0), (2, 2), (2, 2), (0, 0)), 'constant')\n",
    "    return x_data"
   ]
  },
  {
   "cell_type": "code",
   "execution_count": 20,
   "metadata": {},
   "outputs": [],
   "source": [
    "x_train_pad = pad_x(x_train)\n",
    "x_valid_pad = pad_x(x_valid)\n",
    "x_test_pad = pad_x(x_test)"
   ]
  },
  {
   "cell_type": "code",
   "execution_count": 21,
   "metadata": {},
   "outputs": [
    {
     "name": "stdout",
     "output_type": "stream",
     "text": [
      "x_train_pad:\n",
      "Shape:  (37800, 32, 32, 1)\n",
      "Datatype:  float32\n",
      "Size:  38707200\n",
      "Dimensions:  4\n"
     ]
    }
   ],
   "source": [
    "print('x_train_pad:')\n",
    "print('Shape: ', x_train_pad.shape)\n",
    "print('Datatype: ', x_train_pad.dtype)\n",
    "print('Size: ', x_train_pad.size)\n",
    "print('Dimensions: ', x_train_pad.ndim)"
   ]
  },
  {
   "cell_type": "code",
   "execution_count": 27,
   "metadata": {},
   "outputs": [],
   "source": [
    "ln5 = keras.models.Sequential([\n",
    "    keras.layers.Conv2D(filters = 6, kernel_size = (3, 3), activation = 'relu', input_shape = (32, 32, 1)),\n",
    "    keras.layers.AveragePooling2D(),\n",
    "    keras.layers.Conv2D(filters = 16, kernel_size = (3, 3), activation = 'relu'),\n",
    "    keras.layers.AveragePooling2D(),\n",
    "    keras.layers.Flatten(),\n",
    "    keras.layers.Dense(units = 120, activation = 'relu'),\n",
    "    keras.layers.Dense(units = 84, activation = 'relu'),\n",
    "    keras.layers.Dense(units = 10, activation = 'softmax'),\n",
    "])"
   ]
  },
  {
   "cell_type": "code",
   "execution_count": 28,
   "metadata": {},
   "outputs": [
    {
     "name": "stdout",
     "output_type": "stream",
     "text": [
      "Model: \"sequential_2\"\n",
      "_________________________________________________________________\n",
      "Layer (type)                 Output Shape              Param #   \n",
      "=================================================================\n",
      "conv2d_7 (Conv2D)            (None, 30, 30, 6)         60        \n",
      "_________________________________________________________________\n",
      "average_pooling2d_2 (Average (None, 15, 15, 6)         0         \n",
      "_________________________________________________________________\n",
      "conv2d_8 (Conv2D)            (None, 13, 13, 16)        880       \n",
      "_________________________________________________________________\n",
      "average_pooling2d_3 (Average (None, 6, 6, 16)          0         \n",
      "_________________________________________________________________\n",
      "flatten_2 (Flatten)          (None, 576)               0         \n",
      "_________________________________________________________________\n",
      "dense_6 (Dense)              (None, 120)               69240     \n",
      "_________________________________________________________________\n",
      "dense_7 (Dense)              (None, 84)                10164     \n",
      "_________________________________________________________________\n",
      "dense_8 (Dense)              (None, 10)                850       \n",
      "=================================================================\n",
      "Total params: 81,194\n",
      "Trainable params: 81,194\n",
      "Non-trainable params: 0\n",
      "_________________________________________________________________\n"
     ]
    }
   ],
   "source": [
    "ln5.summary()"
   ]
  },
  {
   "cell_type": "code",
   "execution_count": 30,
   "metadata": {},
   "outputs": [
    {
     "name": "stdout",
     "output_type": "stream",
     "text": [
      "Train on 37800 samples, validate on 4200 samples\n",
      "Epoch 1/10\n",
      "37800/37800 [==============================] - 10s 261us/sample - loss: 0.2571 - accuracy: 0.9216 - val_loss: 0.0875 - val_accuracy: 0.9750\n",
      "Epoch 2/10\n",
      "37800/37800 [==============================] - 9s 241us/sample - loss: 0.0802 - accuracy: 0.9744 - val_loss: 0.0688 - val_accuracy: 0.9786\n",
      "Epoch 3/10\n",
      "37800/37800 [==============================] - 9s 248us/sample - loss: 0.0554 - accuracy: 0.9829 - val_loss: 0.0534 - val_accuracy: 0.9826\n",
      "Epoch 4/10\n",
      "37800/37800 [==============================] - 9s 250us/sample - loss: 0.0436 - accuracy: 0.9864 - val_loss: 0.0675 - val_accuracy: 0.9817\n",
      "Epoch 5/10\n",
      "37800/37800 [==============================] - 9s 250us/sample - loss: 0.0352 - accuracy: 0.9889 - val_loss: 0.0578 - val_accuracy: 0.9833\n",
      "Epoch 6/10\n",
      "37800/37800 [==============================] - 9s 231us/sample - loss: 0.0279 - accuracy: 0.9911 - val_loss: 0.0535 - val_accuracy: 0.9833\n",
      "Epoch 7/10\n",
      "37800/37800 [==============================] - 9s 232us/sample - loss: 0.0236 - accuracy: 0.9926 - val_loss: 0.0422 - val_accuracy: 0.9857\n",
      "Epoch 8/10\n",
      "37800/37800 [==============================] - 9s 249us/sample - loss: 0.0199 - accuracy: 0.9937 - val_loss: 0.0502 - val_accuracy: 0.9852\n",
      "Epoch 9/10\n",
      "37800/37800 [==============================] - 10s 255us/sample - loss: 0.0171 - accuracy: 0.9944 - val_loss: 0.0625 - val_accuracy: 0.9814\n",
      "Epoch 10/10\n",
      "37800/37800 [==============================] - 10s 259us/sample - loss: 0.0137 - accuracy: 0.9954 - val_loss: 0.0617 - val_accuracy: 0.9833\n",
      "LeNet-5 has been saved.\n"
     ]
    }
   ],
   "source": [
    "#ln5.compile(loss = \"sparse_categorical_crossentropy\", optimizer = \"Adam\", metrics = [\"accuracy\"])\n",
    "#history = ln5.fit(x_train_pad, y_train, epochs = 10, validation_data = [x_valid_pad, y_valid])\n",
    "\n",
    "#ln5_json = ln5.to_json()\n",
    "#with open(\"ln5.json\", \"w\") as json_file:\n",
    "#    json_file.write(ln5_json)\n",
    "    \n",
    "#ln5.save_weights(\"ln5.h5\")\n",
    "#print(\"LeNet-5 has been saved.\")\n",
    "\n",
    "#winsound.Beep(f, t)"
   ]
  },
  {
   "cell_type": "code",
   "execution_count": 31,
   "metadata": {},
   "outputs": [
    {
     "name": "stdout",
     "output_type": "stream",
     "text": [
      "LeNet-5 has been loaded.\n"
     ]
    }
   ],
   "source": [
    "json_file = open('ln5.json', 'r')\n",
    "ln5_load_json = json_file.read()\n",
    "json_file.close()\n",
    "ln5_load = model_from_json(ln5_load_json)\n",
    "ln5_load.load_weights(\"ln5.h5\")\n",
    "print(\"LeNet-5 has been loaded.\")\n",
    "\n",
    "ln5_load.compile(loss = \"sparse_categorical_crossentropy\", optimizer = \"Adam\", metrics = [\"accuracy\"])\n",
    "y_pred_ln5 = ln5_load.predict(x_test_pad)\n",
    "winsound.Beep(f, t)"
   ]
  },
  {
   "cell_type": "code",
   "execution_count": 32,
   "metadata": {},
   "outputs": [
    {
     "name": "stdout",
     "output_type": "stream",
     "text": [
      "y_pred_ln5:\n",
      "Shape:  (28000, 10)\n",
      "Datatype:  float32\n",
      "Size:  280000\n",
      "Dimensions:  2\n"
     ]
    },
    {
     "data": {
      "text/plain": [
       "array([[1.9340394e-15, 1.0722737e-13, 1.0000000e+00, 2.1110377e-10,\n",
       "        5.1360923e-13, 2.8389686e-17, 3.2124353e-17, 6.3612244e-09,\n",
       "        1.0691207e-09, 9.1533057e-15],\n",
       "       [9.9954718e-01, 1.7156734e-11, 1.4278783e-06, 8.8329077e-09,\n",
       "        9.1315854e-08, 3.8742917e-04, 6.1785962e-05, 1.0468881e-06,\n",
       "        1.0778154e-09, 9.0431593e-07],\n",
       "       [9.0525911e-12, 3.1068119e-08, 1.4781927e-08, 1.6807420e-06,\n",
       "        5.4365443e-04, 4.3799221e-07, 1.5222013e-11, 6.3315309e-07,\n",
       "        5.7552516e-04, 9.9887806e-01]], dtype=float32)"
      ]
     },
     "execution_count": 32,
     "metadata": {},
     "output_type": "execute_result"
    }
   ],
   "source": [
    "print('y_pred_ln5:')\n",
    "print('Shape: ', y_pred_ln5.shape)\n",
    "print('Datatype: ', y_pred_ln5.dtype)\n",
    "print('Size: ', y_pred_ln5.size)\n",
    "print('Dimensions: ', y_pred_ln5.ndim)\n",
    "y_pred_ln5[0:3]"
   ]
  },
  {
   "cell_type": "code",
   "execution_count": null,
   "metadata": {},
   "outputs": [],
   "source": [
    "y_pred_ln5_sub = np.argmax(y_pred_cnn, axis = 1)\n",
    "y_pred_cnn_sub"
   ]
  }
 ],
 "metadata": {
  "kernelspec": {
   "display_name": "Python 3",
   "language": "python",
   "name": "python3"
  },
  "language_info": {
   "codemirror_mode": {
    "name": "ipython",
    "version": 3
   },
   "file_extension": ".py",
   "mimetype": "text/x-python",
   "name": "python",
   "nbconvert_exporter": "python",
   "pygments_lexer": "ipython3",
   "version": "3.7.3"
  }
 },
 "nbformat": 4,
 "nbformat_minor": 2
}
